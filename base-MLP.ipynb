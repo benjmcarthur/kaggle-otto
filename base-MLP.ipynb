{
  "nbformat": 4,
  "nbformat_minor": 0,
  "metadata": {
    "colab": {
      "name": "Kaggle - OTTO - MLP - KFold",
      "provenance": [],
      "collapsed_sections": [],
      "toc_visible": true,
      "authorship_tag": "ABX9TyOIumIjN/TsibzFHQ3zDv0i",
      "include_colab_link": true
    },
    "kernelspec": {
      "name": "python3",
      "display_name": "Python 3"
    },
    "accelerator": "GPU"
  },
  "cells": [
    {
      "cell_type": "markdown",
      "metadata": {
        "id": "view-in-github",
        "colab_type": "text"
      },
      "source": [
        "<a href=\"https://colab.research.google.com/github/benjmcarthur/kaggle-otto/blob/master/base-MLP.ipynb\" target=\"_parent\"><img src=\"https://colab.research.google.com/assets/colab-badge.svg\" alt=\"Open In Colab\"/></a>"
      ]
    },
    {
      "cell_type": "code",
      "metadata": {
        "id": "h9ym8kYjwVbb",
        "colab_type": "code",
        "outputId": "e6cc77f3-d3d9-4142-eded-e98924a1bffe",
        "colab": {
          "base_uri": "https://localhost:8080/",
          "height": 71
        }
      },
      "source": [
        "from __future__ import print_function\n",
        "import torch\n",
        "import torch.nn as nn\n",
        "import torch.nn.functional as F\n",
        "import torch.optim as optim\n",
        "from torch.autograd import Variable\n",
        "from torchvision import datasets,transforms\n",
        "from torch.utils.data import Dataset,DataLoader\n",
        "import pandas as pd\n",
        "import time as time\n",
        "import matplotlib.pyplot as plt \n",
        "\n",
        "from sklearn.preprocessing import normalize\n",
        "from sklearn.preprocessing import StandardScaler\n",
        "from sklearn.externals import joblib\n",
        "from sklearn.model_selection import StratifiedKFold\n",
        "from sklearn.preprocessing import MinMaxScaler\n",
        "\n",
        "import os\n",
        "import numpy as np\n",
        "\n"
      ],
      "execution_count": 0,
      "outputs": [
        {
          "output_type": "stream",
          "text": [
            "/usr/local/lib/python3.6/dist-packages/sklearn/externals/joblib/__init__.py:15: FutureWarning: sklearn.externals.joblib is deprecated in 0.21 and will be removed in 0.23. Please import this functionality directly from joblib, which can be installed with: pip install joblib. If this warning is raised when loading pickled models, you may need to re-serialize those models with scikit-learn 0.21+.\n",
            "  warnings.warn(msg, category=FutureWarning)\n"
          ],
          "name": "stderr"
        }
      ]
    },
    {
      "cell_type": "code",
      "metadata": {
        "id": "wOvwtaM3KU6R",
        "colab_type": "code",
        "outputId": "d10e1eb9-f56c-4ff2-8d0b-7f3e97c8f80d",
        "colab": {
          "base_uri": "https://localhost:8080/",
          "height": 123
        }
      },
      "source": [
        "from google.colab import drive\n",
        "drive.mount('/content/gdrive')\n",
        "models_dir = '/content/gdrive/My Drive/base_models'"
      ],
      "execution_count": 0,
      "outputs": [
        {
          "output_type": "stream",
          "text": [
            "Go to this URL in a browser: https://accounts.google.com/o/oauth2/auth?client_id=947318989803-6bn6qk8qdgf4n4g3pfee6491hc0brc4i.apps.googleusercontent.com&redirect_uri=urn%3aietf%3awg%3aoauth%3a2.0%3aoob&response_type=code&scope=email%20https%3a%2f%2fwww.googleapis.com%2fauth%2fdocs.test%20https%3a%2f%2fwww.googleapis.com%2fauth%2fdrive%20https%3a%2f%2fwww.googleapis.com%2fauth%2fdrive.photos.readonly%20https%3a%2f%2fwww.googleapis.com%2fauth%2fpeopleapi.readonly\n",
            "\n",
            "Enter your authorization code:\n",
            "··········\n",
            "Mounted at /content/gdrive\n"
          ],
          "name": "stdout"
        }
      ]
    },
    {
      "cell_type": "code",
      "metadata": {
        "id": "uBnKZj3UKQ4y",
        "colab_type": "code",
        "outputId": "a47a539b-010a-45e4-f37f-dbb2cac91b77",
        "colab": {
          "base_uri": "https://localhost:8080/",
          "height": 173
        }
      },
      "source": [
        "# Import the dataset\n",
        "\n",
        "os.system(\"ls ../input\")\n",
        "\n",
        "train = pd.read_csv('./gdrive/My Drive/Colab Notebooks/Kaggle/Otto/train.csv')\n",
        "print(\"Training set has {0[0]} rows and {0[1]} columns\".format(train.shape))\n",
        "\n",
        "labels = train['target']\n",
        "train.drop(['target', 'id'], axis=1, inplace=True)\n",
        "#train = train.astype('float64')\n",
        "\n",
        "print(train.head())\n",
        "\n",
        "# Split the training set into k folds\n",
        "# Tried k=20 but that made it no better. But 10 is definitely better than 5 \n",
        "n_splits=5\n",
        "kf = StratifiedKFold(n_splits=n_splits)"
      ],
      "execution_count": 0,
      "outputs": [
        {
          "output_type": "stream",
          "text": [
            "Training set has 61878 rows and 95 columns\n",
            "   feat_1  feat_2  feat_3  feat_4  ...  feat_90  feat_91  feat_92  feat_93\n",
            "0       1       0       0       0  ...        0        0        0        0\n",
            "1       0       0       0       0  ...        0        0        0        0\n",
            "2       0       0       0       0  ...        0        0        0        0\n",
            "3       1       0       0       1  ...        0        0        0        0\n",
            "4       0       0       0       0  ...        1        0        0        0\n",
            "\n",
            "[5 rows x 93 columns]\n"
          ],
          "name": "stdout"
        }
      ]
    },
    {
      "cell_type": "code",
      "metadata": {
        "id": "ltguiMEALNoU",
        "colab_type": "code",
        "colab": {}
      },
      "source": [
        "labels =  labels.map({'Class_1': 1, 'Class_2': 2,\n",
        "                                  'Class_3': 3, 'Class_4': 4,\n",
        "                                  'Class_5': 5, 'Class_6': 6,\n",
        "                                  'Class_7': 7, 'Class_8': 8,\n",
        "                                  'Class_9': 9})\n",
        "labels = labels.astype('float64')"
      ],
      "execution_count": 0,
      "outputs": []
    },
    {
      "cell_type": "code",
      "metadata": {
        "id": "bXFy1yOhTLVS",
        "colab_type": "code",
        "outputId": "191aa623-17e5-4b7b-881c-b6daac51cf20",
        "colab": {
          "base_uri": "https://localhost:8080/",
          "height": 34
        }
      },
      "source": [
        "# Import the test dataset\n",
        "test = pd.read_csv(\"/content/gdrive/My Drive/Colab Notebooks/Kaggle/Otto/test.csv\")\n",
        "ids = test['id']\n",
        "test.drop(['id'], axis=1, inplace=True)\n",
        "print(\"Test set has {0[0]} rows and {0[1]} columns\".format(test.shape))"
      ],
      "execution_count": 0,
      "outputs": [
        {
          "output_type": "stream",
          "text": [
            "Test set has 144368 rows and 93 columns\n"
          ],
          "name": "stdout"
        }
      ]
    },
    {
      "cell_type": "code",
      "metadata": {
        "id": "BrNG0EAndrbv",
        "colab_type": "code",
        "colab": {}
      },
      "source": [
        "train = np.log(train.to_numpy()+1)\n",
        "test = np.log(test.to_numpy()+1)"
      ],
      "execution_count": 0,
      "outputs": []
    },
    {
      "cell_type": "code",
      "metadata": {
        "id": "CksfCTpakQ7a",
        "colab_type": "code",
        "colab": {}
      },
      "source": [
        "# Scale the data 0-1 scaling\n",
        "scaler = MinMaxScaler()\n",
        "train = scaler.fit_transform(train.to_numpy())\n",
        "test = scaler.transform(test.to_numpy())"
      ],
      "execution_count": 0,
      "outputs": []
    },
    {
      "cell_type": "code",
      "metadata": {
        "id": "xMfulPChQICu",
        "colab_type": "code",
        "colab": {}
      },
      "source": [
        "# Scale the data standard scaling\n",
        "scaler = StandardScaler()\n",
        "train = scaler.fit_transform(train.to_numpy())\n",
        "test = scaler.transform(test.to_numpy())"
      ],
      "execution_count": 0,
      "outputs": []
    },
    {
      "cell_type": "code",
      "metadata": {
        "id": "skB9BQGKNhmc",
        "colab_type": "code",
        "colab": {}
      },
      "source": [
        "train = train.to_numpy()\n",
        "test = test.to_numpy()"
      ],
      "execution_count": 0,
      "outputs": []
    },
    {
      "cell_type": "code",
      "metadata": {
        "id": "DYCbFFj5tU_3",
        "colab_type": "code",
        "colab": {}
      },
      "source": [
        "class MLP(nn.Module):\n",
        "    def __init__(self):\n",
        "        super(MLP,self).__init__()\n",
        "        self.classifier = nn.Sequential(\n",
        "            nn.Dropout(0.2),\n",
        "            nn.Linear(93,1000),\n",
        "            nn.ReLU(),\n",
        "\n",
        "            nn.Dropout(0.3),\n",
        "            nn.Linear(1000,800),\n",
        "            nn.ReLU(),\n",
        "\n",
        "            nn.Dropout(0.3),\n",
        "            nn.Linear(800,500),\n",
        "            nn.ReLU(),\n",
        "\n",
        "            nn.Dropout(0.25),\n",
        "            nn.Linear(500,9)\n",
        "        )\n",
        "\n",
        "    def forward(self,x):\n",
        "        x = self.classifier(x)\n",
        "        return x"
      ],
      "execution_count": 0,
      "outputs": []
    },
    {
      "cell_type": "code",
      "metadata": {
        "id": "KZ0IiDHVw04R",
        "colab_type": "code",
        "colab": {}
      },
      "source": [
        "model = MLP().to('cuda')\n",
        "criterion = nn.CrossEntropyLoss().to('cuda')\n",
        "# Started at weight_decay=0.0000185\n",
        "optimizer = optim.Adam(model.parameters(),weight_decay=0.00000185)"
      ],
      "execution_count": 0,
      "outputs": []
    },
    {
      "cell_type": "code",
      "metadata": {
        "id": "oANsBAcXJTpv",
        "colab_type": "code",
        "outputId": "8bb8e96b-abb2-4a8c-ed6c-74b1301a0f18",
        "colab": {
          "base_uri": "https://localhost:8080/",
          "height": 1000
        }
      },
      "source": [
        "# Deep MLP with K Fold Stacking\n",
        "train_preds = np.zeros((train.shape[0],9))\n",
        "test_preds_array = []\n",
        "best_val_losses = []\n",
        "k=1\n",
        "\n",
        "for train_index, valid_index in kf.split(train, labels):\n",
        "\n",
        "    print('Running fold ', k)\n",
        "    k += 1\n",
        "\n",
        "    train_x, valid_x = train[train_index], train[valid_index]\n",
        "    train_y, valid_y = labels.iloc[train_index], labels.iloc[valid_index]\n",
        "\n",
        "    train_x = torch.tensor(train_x)\n",
        "    train_y = torch.tensor(train_y.values)\n",
        "    valid_x = torch.tensor(valid_x)\n",
        "    valid_y = torch.tensor(valid_y.values)\n",
        "    test_x = torch.tensor(test)\n",
        "\n",
        "    train_x = Variable(train_x).float()\n",
        "    train_y = Variable(train_y).type(torch.LongTensor)\n",
        "    valid_x = Variable(valid_x).float()\n",
        "    valid_y = Variable(valid_y).type(torch.LongTensor)\n",
        "    test_x = Variable(test_x).float()\n",
        "\n",
        "    best_model, train_preds_new, test_preds, train_losses, valid_losses, epoch_nums = train_NN(train_x, train_y, valid_x, valid_y, test_x)\n",
        "\n",
        "    train_preds[valid_index] = train_preds_new\n",
        "    test_preds_array.append(test_preds)\n",
        "\n",
        "    ## REMOVE LATER\n",
        "    #outputs = best_model.forward(train)\n",
        "    #probs = F.softmax(outputs, dim=1)\n",
        "    #train_preds = probs.cpu().detach().numpy()\n",
        "    # </> REMOVE LATER\n",
        "\n",
        "    plt.figure()\n",
        "    plt.plot(epoch_nums, train_losses)\n",
        "    plt.plot(epoch_nums, valid_losses)\n",
        "    plt.show()\n",
        "\n",
        "    #train_preds.append(train_preds)\n",
        "\n",
        "test_preds = np.mean(test_preds_array, axis=0)\n",
        "#train_preds = np.mean(train_preds_array, axis=0)\n",
        "\n",
        "\n",
        "#print('Average OOF loss: {}'.format()\n",
        "\n",
        "# Training\n",
        "#fname = models_dir + '/train-bigNN-log(x+1)'\n",
        "#_ = joblib.dump(train_preds, fname, compress=9)\n",
        "\n",
        "# Test\n",
        "#fname = models_dir + '/test-bigNN-log(x+1)'\n",
        "#_ = joblib.dump(test_preds, fname, compress=9)"
      ],
      "execution_count": 0,
      "outputs": [
        {
          "output_type": "stream",
          "text": [
            "Running fold  1\n"
          ],
          "name": "stdout"
        },
        {
          "output_type": "stream",
          "text": [
            "/usr/local/lib/python3.6/dist-packages/torch/serialization.py:360: UserWarning: Couldn't retrieve source code for container of type MLP. It won't be checked for correctness upon loading.\n",
            "  \"type \" + obj.__name__ + \". It won't be checked \"\n"
          ],
          "name": "stderr"
        },
        {
          "output_type": "stream",
          "text": [
            "Epoch: 1 Train Loss: 1.411 Validation Loss 1.408 Best so far: 1.408\n",
            "Epoch: 11 Train Loss: 0.689 Validation Loss 0.697 Best so far: 0.697\n",
            "Epoch: 21 Train Loss: 0.640 Validation Loss 0.669 Best so far: 0.662\n",
            "Epoch: 31 Train Loss: 0.609 Validation Loss 0.654 Best so far: 0.643\n",
            "Epoch: 41 Train Loss: 0.584 Validation Loss 0.631 Best so far: 0.631\n",
            "Epoch: 51 Train Loss: 0.567 Validation Loss 0.636 Best so far: 0.628\n",
            "Epoch: 61 Train Loss: 0.556 Validation Loss 0.625 Best so far: 0.611\n",
            "Epoch: 71 Train Loss: 0.541 Validation Loss 0.618 Best so far: 0.611\n",
            "Epoch: 81 Train Loss: 0.529 Validation Loss 0.622 Best so far: 0.611\n",
            "Epoch: 91 Train Loss: 0.519 Validation Loss 0.613 Best so far: 0.608\n",
            "Epoch: 101 Train Loss: 0.508 Validation Loss 0.611 Best so far: 0.608\n",
            "Epoch: 111 Train Loss: 0.502 Validation Loss 0.619 Best so far: 0.606\n",
            "Epoch: 121 Train Loss: 0.492 Validation Loss 0.611 Best so far: 0.606\n",
            "Epoch: 131 Train Loss: 0.487 Validation Loss 0.610 Best so far: 0.606\n",
            "Epoch: 141 Train Loss: 0.479 Validation Loss 0.614 Best so far: 0.606\n",
            "Epoch: 151 Train Loss: 0.468 Validation Loss 0.613 Best so far: 0.606\n",
            "Epoch: 161 Train Loss: 0.463 Validation Loss 0.623 Best so far: 0.599\n",
            "Epoch: 171 Train Loss: 0.460 Validation Loss 0.611 Best so far: 0.599\n",
            "Epoch: 181 Train Loss: 0.450 Validation Loss 0.625 Best so far: 0.599\n",
            "Epoch: 191 Train Loss: 0.442 Validation Loss 0.629 Best so far: 0.599\n",
            "Epoch: 201 Train Loss: 0.443 Validation Loss 0.615 Best so far: 0.599\n",
            "Epoch: 211 Train Loss: 0.435 Validation Loss 0.636 Best so far: 0.599\n",
            "Epoch: 221 Train Loss: 0.431 Validation Loss 0.624 Best so far: 0.599\n",
            "Epoch: 231 Train Loss: 0.423 Validation Loss 0.629 Best so far: 0.599\n",
            "Epoch: 241 Train Loss: 0.420 Validation Loss 0.630 Best so far: 0.599\n",
            "Time taken:  26.061465740203857\n"
          ],
          "name": "stdout"
        },
        {
          "output_type": "display_data",
          "data": {
            "image/png": "[encoded data removed]",
            "text/plain": [
              "<Figure size 432x288 with 1 Axes>"
            ]
          },
          "metadata": {
            "tags": []
          }
        },
        {
          "output_type": "stream",
          "text": [
            "Running fold  2\n"
          ],
          "name": "stdout"
        },
        {
          "output_type": "stream",
          "text": [
            "/usr/local/lib/python3.6/dist-packages/torch/serialization.py:360: UserWarning: Couldn't retrieve source code for container of type MLP. It won't be checked for correctness upon loading.\n",
            "  \"type \" + obj.__name__ + \". It won't be checked \"\n"
          ],
          "name": "stderr"
        },
        {
          "output_type": "stream",
          "text": [
            "Epoch: 1 Train Loss: 1.418 Validation Loss 1.412 Best so far: 1.412\n",
            "Epoch: 11 Train Loss: 0.691 Validation Loss 0.721 Best so far: 0.721\n",
            "Epoch: 21 Train Loss: 0.633 Validation Loss 0.681 Best so far: 0.677\n",
            "Epoch: 31 Train Loss: 0.612 Validation Loss 0.669 Best so far: 0.656\n",
            "Epoch: 41 Train Loss: 0.586 Validation Loss 0.638 Best so far: 0.638\n",
            "Epoch: 51 Train Loss: 0.571 Validation Loss 0.645 Best so far: 0.627\n",
            "Epoch: 61 Train Loss: 0.555 Validation Loss 0.633 Best so far: 0.627\n",
            "Epoch: 71 Train Loss: 0.537 Validation Loss 0.626 Best so far: 0.626\n",
            "Epoch: 81 Train Loss: 0.531 Validation Loss 0.623 Best so far: 0.617\n",
            "Epoch: 91 Train Loss: 0.520 Validation Loss 0.617 Best so far: 0.617\n",
            "Epoch: 101 Train Loss: 0.506 Validation Loss 0.623 Best so far: 0.617\n",
            "Epoch: 111 Train Loss: 0.497 Validation Loss 0.624 Best so far: 0.613\n",
            "Epoch: 121 Train Loss: 0.495 Validation Loss 0.620 Best so far: 0.612\n",
            "Epoch: 131 Train Loss: 0.489 Validation Loss 0.627 Best so far: 0.612\n",
            "Epoch: 141 Train Loss: 0.476 Validation Loss 0.614 Best so far: 0.612\n",
            "Epoch: 151 Train Loss: 0.473 Validation Loss 0.635 Best so far: 0.612\n",
            "Epoch: 161 Train Loss: 0.461 Validation Loss 0.621 Best so far: 0.612\n",
            "Epoch: 171 Train Loss: 0.457 Validation Loss 0.635 Best so far: 0.612\n",
            "Epoch: 181 Train Loss: 0.453 Validation Loss 0.632 Best so far: 0.612\n",
            "Epoch: 191 Train Loss: 0.446 Validation Loss 0.633 Best so far: 0.612\n",
            "Epoch: 201 Train Loss: 0.442 Validation Loss 0.636 Best so far: 0.612\n",
            "Epoch: 211 Train Loss: 0.438 Validation Loss 0.638 Best so far: 0.612\n",
            "Epoch: 221 Train Loss: 0.432 Validation Loss 0.640 Best so far: 0.612\n",
            "Epoch: 231 Train Loss: 0.426 Validation Loss 0.647 Best so far: 0.612\n",
            "Epoch: 241 Train Loss: 0.424 Validation Loss 0.629 Best so far: 0.612\n",
            "Time taken:  26.539268732070923\n"
          ],
          "name": "stdout"
        },
        {
          "output_type": "display_data",
          "data": {
            "image/png": "[encoded data removed]",
            "text/plain": [
              "<Figure size 432x288 with 1 Axes>"
            ]
          },
          "metadata": {
            "tags": []
          }
        },
        {
          "output_type": "stream",
          "text": [
            "Running fold  3\n"
          ],
          "name": "stdout"
        },
        {
          "output_type": "stream",
          "text": [
            "/usr/local/lib/python3.6/dist-packages/torch/serialization.py:360: UserWarning: Couldn't retrieve source code for container of type MLP. It won't be checked for correctness upon loading.\n",
            "  \"type \" + obj.__name__ + \". It won't be checked \"\n"
          ],
          "name": "stderr"
        },
        {
          "output_type": "stream",
          "text": [
            "Epoch: 1 Train Loss: 1.408 Validation Loss 1.400 Best so far: 1.400\n",
            "Epoch: 11 Train Loss: 0.693 Validation Loss 0.691 Best so far: 0.691\n",
            "Epoch: 21 Train Loss: 0.640 Validation Loss 0.653 Best so far: 0.653\n",
            "Epoch: 31 Train Loss: 0.605 Validation Loss 0.637 Best so far: 0.637\n",
            "Epoch: 41 Train Loss: 0.588 Validation Loss 0.627 Best so far: 0.624\n",
            "Epoch: 51 Train Loss: 0.568 Validation Loss 0.615 Best so far: 0.615\n",
            "Epoch: 61 Train Loss: 0.554 Validation Loss 0.620 Best so far: 0.612\n",
            "Epoch: 71 Train Loss: 0.544 Validation Loss 0.618 Best so far: 0.609\n",
            "Epoch: 81 Train Loss: 0.529 Validation Loss 0.601 Best so far: 0.601\n",
            "Epoch: 91 Train Loss: 0.519 Validation Loss 0.622 Best so far: 0.601\n",
            "Epoch: 101 Train Loss: 0.510 Validation Loss 0.618 Best so far: 0.601\n",
            "Epoch: 111 Train Loss: 0.499 Validation Loss 0.604 Best so far: 0.593\n",
            "Epoch: 121 Train Loss: 0.489 Validation Loss 0.603 Best so far: 0.593\n",
            "Epoch: 131 Train Loss: 0.484 Validation Loss 0.604 Best so far: 0.593\n",
            "Epoch: 141 Train Loss: 0.479 Validation Loss 0.619 Best so far: 0.593\n",
            "Epoch: 151 Train Loss: 0.471 Validation Loss 0.608 Best so far: 0.593\n",
            "Epoch: 161 Train Loss: 0.465 Validation Loss 0.630 Best so far: 0.593\n",
            "Epoch: 171 Train Loss: 0.461 Validation Loss 0.619 Best so far: 0.593\n",
            "Epoch: 181 Train Loss: 0.453 Validation Loss 0.619 Best so far: 0.593\n",
            "Epoch: 191 Train Loss: 0.446 Validation Loss 0.607 Best so far: 0.593\n",
            "Epoch: 201 Train Loss: 0.444 Validation Loss 0.617 Best so far: 0.593\n",
            "Epoch: 211 Train Loss: 0.434 Validation Loss 0.622 Best so far: 0.593\n",
            "Epoch: 221 Train Loss: 0.433 Validation Loss 0.625 Best so far: 0.593\n",
            "Epoch: 231 Train Loss: 0.434 Validation Loss 0.634 Best so far: 0.593\n",
            "Epoch: 241 Train Loss: 0.427 Validation Loss 0.635 Best so far: 0.593\n",
            "Time taken:  26.078924417495728\n"
          ],
          "name": "stdout"
        },
        {
          "output_type": "display_data",
          "data": {
            "image/png": "[encoded data removed]",
            "text/plain": [
              "<Figure size 432x288 with 1 Axes>"
            ]
          },
          "metadata": {
            "tags": []
          }
        },
        {
          "output_type": "stream",
          "text": [
            "Running fold  4\n"
          ],
          "name": "stdout"
        },
        {
          "output_type": "stream",
          "text": [
            "/usr/local/lib/python3.6/dist-packages/torch/serialization.py:360: UserWarning: Couldn't retrieve source code for container of type MLP. It won't be checked for correctness upon loading.\n",
            "  \"type \" + obj.__name__ + \". It won't be checked \"\n"
          ],
          "name": "stderr"
        },
        {
          "output_type": "stream",
          "text": [
            "Epoch: 1 Train Loss: 1.405 Validation Loss 1.403 Best so far: 1.403\n",
            "Epoch: 11 Train Loss: 0.697 Validation Loss 0.691 Best so far: 0.691\n",
            "Epoch: 21 Train Loss: 0.646 Validation Loss 0.646 Best so far: 0.646\n",
            "Epoch: 31 Train Loss: 0.611 Validation Loss 0.622 Best so far: 0.622\n",
            "Epoch: 41 Train Loss: 0.593 Validation Loss 0.615 Best so far: 0.615\n",
            "Epoch: 51 Train Loss: 0.574 Validation Loss 0.602 Best so far: 0.602\n",
            "Epoch: 61 Train Loss: 0.560 Validation Loss 0.612 Best so far: 0.602\n",
            "Epoch: 71 Train Loss: 0.545 Validation Loss 0.609 Best so far: 0.592\n",
            "Epoch: 81 Train Loss: 0.535 Validation Loss 0.594 Best so far: 0.587\n",
            "Epoch: 91 Train Loss: 0.523 Validation Loss 0.595 Best so far: 0.587\n",
            "Epoch: 101 Train Loss: 0.516 Validation Loss 0.587 Best so far: 0.583\n",
            "Epoch: 111 Train Loss: 0.502 Validation Loss 0.598 Best so far: 0.583\n",
            "Epoch: 121 Train Loss: 0.497 Validation Loss 0.607 Best so far: 0.583\n",
            "Epoch: 131 Train Loss: 0.489 Validation Loss 0.602 Best so far: 0.583\n",
            "Epoch: 141 Train Loss: 0.483 Validation Loss 0.594 Best so far: 0.583\n",
            "Epoch: 151 Train Loss: 0.476 Validation Loss 0.599 Best so far: 0.577\n",
            "Epoch: 161 Train Loss: 0.463 Validation Loss 0.600 Best so far: 0.577\n",
            "Epoch: 171 Train Loss: 0.465 Validation Loss 0.603 Best so far: 0.577\n",
            "Epoch: 181 Train Loss: 0.450 Validation Loss 0.600 Best so far: 0.577\n",
            "Epoch: 191 Train Loss: 0.446 Validation Loss 0.609 Best so far: 0.577\n",
            "Epoch: 201 Train Loss: 0.446 Validation Loss 0.608 Best so far: 0.577\n",
            "Epoch: 211 Train Loss: 0.437 Validation Loss 0.607 Best so far: 0.577\n",
            "Epoch: 221 Train Loss: 0.435 Validation Loss 0.604 Best so far: 0.577\n",
            "Epoch: 231 Train Loss: 0.431 Validation Loss 0.605 Best so far: 0.577\n",
            "Epoch: 241 Train Loss: 0.425 Validation Loss 0.624 Best so far: 0.577\n",
            "Time taken:  26.658723831176758\n"
          ],
          "name": "stdout"
        },
        {
          "output_type": "display_data",
          "data": {
            "image/png": "[encoded data removed]",
            "text/plain": [
              "<Figure size 432x288 with 1 Axes>"
            ]
          },
          "metadata": {
            "tags": []
          }
        },
        {
          "output_type": "stream",
          "text": [
            "Running fold  5\n"
          ],
          "name": "stdout"
        },
        {
          "output_type": "stream",
          "text": [
            "/usr/local/lib/python3.6/dist-packages/torch/serialization.py:360: UserWarning: Couldn't retrieve source code for container of type MLP. It won't be checked for correctness upon loading.\n",
            "  \"type \" + obj.__name__ + \". It won't be checked \"\n"
          ],
          "name": "stderr"
        },
        {
          "output_type": "stream",
          "text": [
            "Epoch: 1 Train Loss: 1.425 Validation Loss 1.446 Best so far: 1.446\n",
            "Epoch: 11 Train Loss: 0.695 Validation Loss 0.698 Best so far: 0.698\n",
            "Epoch: 21 Train Loss: 0.639 Validation Loss 0.665 Best so far: 0.665\n",
            "Epoch: 31 Train Loss: 0.607 Validation Loss 0.645 Best so far: 0.642\n",
            "Epoch: 41 Train Loss: 0.584 Validation Loss 0.635 Best so far: 0.635\n",
            "Epoch: 51 Train Loss: 0.564 Validation Loss 0.631 Best so far: 0.623\n",
            "Epoch: 61 Train Loss: 0.553 Validation Loss 0.615 Best so far: 0.615\n",
            "Epoch: 71 Train Loss: 0.543 Validation Loss 0.628 Best so far: 0.615\n",
            "Epoch: 81 Train Loss: 0.528 Validation Loss 0.619 Best so far: 0.611\n",
            "Epoch: 91 Train Loss: 0.516 Validation Loss 0.620 Best so far: 0.609\n",
            "Epoch: 101 Train Loss: 0.509 Validation Loss 0.614 Best so far: 0.609\n",
            "Epoch: 111 Train Loss: 0.498 Validation Loss 0.616 Best so far: 0.608\n",
            "Epoch: 121 Train Loss: 0.489 Validation Loss 0.613 Best so far: 0.608\n",
            "Epoch: 131 Train Loss: 0.479 Validation Loss 0.602 Best so far: 0.602\n",
            "Epoch: 141 Train Loss: 0.478 Validation Loss 0.608 Best so far: 0.599\n",
            "Epoch: 151 Train Loss: 0.470 Validation Loss 0.623 Best so far: 0.599\n",
            "Epoch: 161 Train Loss: 0.458 Validation Loss 0.626 Best so far: 0.599\n",
            "Epoch: 171 Train Loss: 0.457 Validation Loss 0.614 Best so far: 0.599\n",
            "Epoch: 181 Train Loss: 0.453 Validation Loss 0.627 Best so far: 0.599\n",
            "Epoch: 191 Train Loss: 0.445 Validation Loss 0.625 Best so far: 0.599\n",
            "Epoch: 201 Train Loss: 0.443 Validation Loss 0.635 Best so far: 0.599\n",
            "Epoch: 211 Train Loss: 0.437 Validation Loss 0.626 Best so far: 0.599\n",
            "Epoch: 221 Train Loss: 0.437 Validation Loss 0.625 Best so far: 0.599\n",
            "Epoch: 231 Train Loss: 0.431 Validation Loss 0.642 Best so far: 0.599\n",
            "Epoch: 241 Train Loss: 0.428 Validation Loss 0.641 Best so far: 0.599\n",
            "Time taken:  26.409850358963013\n"
          ],
          "name": "stdout"
        },
        {
          "output_type": "display_data",
          "data": {
            "image/png": "[encoded data removed]",
            "text/plain": [
              "<Figure size 432x288 with 1 Axes>"
            ]
          },
          "metadata": {
            "tags": []
          }
        }
      ]
    },
    {
      "cell_type": "code",
      "metadata": {
        "id": "3ZwBi0A5xBhf",
        "colab_type": "code",
        "colab": {}
      },
      "source": [
        "def train_NN(train_x, train_y, valid_x, valid_y, test_x):\n",
        "\n",
        "    model = MLP().to('cuda')\n",
        "    criterion = nn.CrossEntropyLoss().to('cuda')\n",
        "    optimizer = optim.Adam(model.parameters(),weight_decay=0.00000185)\n",
        "    model.train()\n",
        "\n",
        "    train_losses = []\n",
        "    valid_losses = []\n",
        "    epoch_nums = []\n",
        "    epochs = 250\n",
        "    best_valid_loss = 50\n",
        "    log_interval = 10\n",
        "    start_time = time.time()\n",
        "    model.train()\n",
        "    batch_size = 10000\n",
        "\n",
        "    train_x = train_x.to('cuda')\n",
        "    train_y = train_y.to('cuda')\n",
        "    valid_x = valid_x.to('cuda')\n",
        "    valid_y = valid_y.to('cuda')\n",
        "    test_x = test_x.to('cuda')\n",
        "\n",
        "\n",
        "    for epoch in range(epochs):\n",
        "\n",
        "        permutation = torch.randperm(train_x.size()[0])\n",
        "\n",
        "        for i in range(0,train_x.size()[0], batch_size):\n",
        "          \n",
        "            optimizer.zero_grad()\n",
        "\n",
        "            indices = permutation[i:i+batch_size]\n",
        "            batch_x, batch_y = train_x[indices], train_y[indices]\n",
        "\n",
        "            outputs = model.forward(batch_x)\n",
        "            loss = criterion(outputs, batch_y-1)\n",
        "\n",
        "            loss.backward()\n",
        "            optimizer.step()\n",
        "\n",
        "        valid_l = criterion(model.forward(valid_x), valid_y-1).detach()\n",
        "        train_l = criterion(model.forward(train_x), train_y-1).detach()\n",
        "\n",
        "        train_losses.append(train_l)\n",
        "        valid_losses.append(valid_l)\n",
        "        epoch_nums.append(epoch)\n",
        "\n",
        "        if valid_l < best_valid_loss:\n",
        "          torch.save(model, 'best_model.pth')\n",
        "          best_valid_loss = valid_l\n",
        "\n",
        "        if epoch % log_interval == 0:\n",
        "          print('Epoch: {} Train Loss: {:.3f} Validation Loss {:.3f} Best so far: {:.3f}'.format(epoch+1, train_l, valid_l, best_valid_loss))\n",
        "\n",
        "    print('Time taken: ', time.time()-start_time)\n",
        "\n",
        "    # Load best model\n",
        "    best_model = torch.load('best_model.pth')\n",
        "    best_model.eval()\n",
        "\n",
        "    # OOF train set\n",
        "    outputs = best_model.forward(valid_x)\n",
        "    probs = F.softmax(outputs, dim=1)\n",
        "    y_valid_pred = probs.cpu().detach().numpy()\n",
        "\n",
        "    # Test set\n",
        "    outputs = best_model.forward(test_x)\n",
        "    probs = F.softmax(outputs, dim=1)\n",
        "    y_test_pred = probs.cpu().detach().numpy()\n",
        "\n",
        "    return best_model, y_valid_pred, y_test_pred, train_losses, valid_losses, epoch_nums"
      ],
      "execution_count": 0,
      "outputs": []
    },
    {
      "cell_type": "markdown",
      "metadata": {
        "id": "jfVXEQLfYytZ",
        "colab_type": "text"
      },
      "source": [
        "### SUBMIT RESULTS\n"
      ]
    },
    {
      "cell_type": "code",
      "metadata": {
        "id": "gaFjkawkFIwL",
        "colab_type": "code",
        "colab": {}
      },
      "source": [
        "os.environ['KAGGLE_USERNAME'] = \"benmcarthur\" # username from the json file\n",
        "os.environ['KAGGLE_KEY'] = \"a89502eb26498960de769db301645abe\" # key from the json file"
      ],
      "execution_count": 0,
      "outputs": []
    },
    {
      "cell_type": "code",
      "metadata": {
        "id": "RDvlLI1bY1XL",
        "colab_type": "code",
        "outputId": "22088277-f491-4d17-f875-c429e1ba4dca",
        "colab": {
          "base_uri": "https://localhost:8080/",
          "height": 69
        }
      },
      "source": [
        "submit = np.c_[ pd.to_numeric(ids, downcast='integer'), test_preds ]\n",
        "header = 'id,Class_1,Class_2,Class_3,Class_4,Class_5,Class_6,Class_7,Class_8,Class_9'\n",
        "fmt='%i, %1.4f, %1.4f, %1.4f, %1.4f, %1.4f, %1.4f, %1.4f, %1.4f, %1.4f'\n",
        "np.savetxt('submission.csv', submit, delimiter=',', header=header, comments='',fmt=fmt)\n",
        "!kaggle competitions submit -c otto-group-product-classification-challenge -f submission.csv -m \"std scaling\""
      ],
      "execution_count": 0,
      "outputs": [
        {
          "output_type": "stream",
          "text": [
            "Warning: Looks like you're using an outdated API Version, please consider updating (server 1.5.6 / client 1.5.4)\n",
            "100% 10.8M/10.8M [00:02<00:00, 4.76MB/s]\n",
            "Successfully submitted to Otto Group Product Classification Challenge"
          ],
          "name": "stdout"
        }
      ]
    }
  ]
}